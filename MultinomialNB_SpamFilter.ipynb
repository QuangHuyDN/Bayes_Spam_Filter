{
  "cells": [
    {
      "cell_type": "markdown",
      "id": "effb1437",
      "metadata": {
        "id": "effb1437"
      },
      "source": [
        "<h1><center>Spam message filter using Naive Bayes Classification</center></h1>\n",
        "\n",
        "### INTRODUCTION\n",
        "In machine learning, Bayes classifier are statistical classifier which can be use for predicting or classifying given data tuples belong to particular classes.\n",
        "\n",
        "Bayes classification is based on Bayes's theorem.\n",
        "\n",
        "![](https://annalloyd.files.wordpress.com/2019/03/bayes-1.png?w=635&h=391)\n",
        "\n",
        "In bayes classification, Bayes theorem is used to predict the probability of a tuple belong to one particular class based on its features.\n",
        "\n",
        "In the scope of this project, our goal is to build a classfier to detect spam mail using Bayes Classification.\n",
        "\n",
        "The dataset which will be used later is stored in <a href='https://raw.githubusercontent.com/HuyQuangCSE/dataset/main/SMSSpamCollection'>this repository</a>\n",
        "\n",
        "\n",
        "### DATA PREPARATION\n",
        "But first, we need to import the required packages that we are going to use in this project."
      ]
    },
    {
      "cell_type": "code",
      "execution_count": null,
      "metadata": {
        "id": "z7pI4xAUC7Fy"
      },
      "outputs": [],
      "source": [
        "import pandas as pd\n",
        "import numpy as np\n",
        "\n",
        "from sklearn.feature_extraction.text import CountVectorizer\n",
        "from sklearn.model_selection import train_test_split\n",
        "from sklearn.naive_bayes import MultinomialNB"
      ],
      "id": "z7pI4xAUC7Fy"
    },
    {
      "cell_type": "markdown",
      "id": "730eca14",
      "metadata": {
        "id": "730eca14"
      },
      "source": [
        "Then, we collect the raw data from the source. This dataset has already been labeled beforehand."
      ]
    },
    {
      "cell_type": "code",
      "execution_count": null,
      "id": "c6608fbb",
      "metadata": {
        "colab": {
          "base_uri": "https://localhost:8080/",
          "height": 363
        },
        "id": "c6608fbb",
        "outputId": "32e1e4a2-3ec0-496f-9d7e-42bfd7562c7e"
      },
      "outputs": [
        {
          "output_type": "execute_result",
          "data": {
            "text/plain": [
              "  label                                            content\n",
              "0   ham  Go until jurong point, crazy.. Available only ...\n",
              "1   ham                      Ok lar... Joking wif u oni...\n",
              "2  spam  Free entry in 2 a wkly comp to win FA Cup fina...\n",
              "3   ham  U dun say so early hor... U c already then say...\n",
              "4   ham  Nah I don't think he goes to usf, he lives aro...\n",
              "5  spam  FreeMsg Hey there darling it's been 3 week's n...\n",
              "6   ham  Even my brother is not like to speak with me. ...\n",
              "7   ham  As per your request 'Melle Melle (Oru Minnamin...\n",
              "8  spam  WINNER!! As a valued network customer you have...\n",
              "9  spam  Had your mobile 11 months or more? U R entitle..."
            ],
            "text/html": [
              "\n",
              "  <div id=\"df-a8eeda78-fce2-4cc9-9c3e-e856cb9dd012\">\n",
              "    <div class=\"colab-df-container\">\n",
              "      <div>\n",
              "<style scoped>\n",
              "    .dataframe tbody tr th:only-of-type {\n",
              "        vertical-align: middle;\n",
              "    }\n",
              "\n",
              "    .dataframe tbody tr th {\n",
              "        vertical-align: top;\n",
              "    }\n",
              "\n",
              "    .dataframe thead th {\n",
              "        text-align: right;\n",
              "    }\n",
              "</style>\n",
              "<table border=\"1\" class=\"dataframe\">\n",
              "  <thead>\n",
              "    <tr style=\"text-align: right;\">\n",
              "      <th></th>\n",
              "      <th>label</th>\n",
              "      <th>content</th>\n",
              "    </tr>\n",
              "  </thead>\n",
              "  <tbody>\n",
              "    <tr>\n",
              "      <th>0</th>\n",
              "      <td>ham</td>\n",
              "      <td>Go until jurong point, crazy.. Available only ...</td>\n",
              "    </tr>\n",
              "    <tr>\n",
              "      <th>1</th>\n",
              "      <td>ham</td>\n",
              "      <td>Ok lar... Joking wif u oni...</td>\n",
              "    </tr>\n",
              "    <tr>\n",
              "      <th>2</th>\n",
              "      <td>spam</td>\n",
              "      <td>Free entry in 2 a wkly comp to win FA Cup fina...</td>\n",
              "    </tr>\n",
              "    <tr>\n",
              "      <th>3</th>\n",
              "      <td>ham</td>\n",
              "      <td>U dun say so early hor... U c already then say...</td>\n",
              "    </tr>\n",
              "    <tr>\n",
              "      <th>4</th>\n",
              "      <td>ham</td>\n",
              "      <td>Nah I don't think he goes to usf, he lives aro...</td>\n",
              "    </tr>\n",
              "    <tr>\n",
              "      <th>5</th>\n",
              "      <td>spam</td>\n",
              "      <td>FreeMsg Hey there darling it's been 3 week's n...</td>\n",
              "    </tr>\n",
              "    <tr>\n",
              "      <th>6</th>\n",
              "      <td>ham</td>\n",
              "      <td>Even my brother is not like to speak with me. ...</td>\n",
              "    </tr>\n",
              "    <tr>\n",
              "      <th>7</th>\n",
              "      <td>ham</td>\n",
              "      <td>As per your request 'Melle Melle (Oru Minnamin...</td>\n",
              "    </tr>\n",
              "    <tr>\n",
              "      <th>8</th>\n",
              "      <td>spam</td>\n",
              "      <td>WINNER!! As a valued network customer you have...</td>\n",
              "    </tr>\n",
              "    <tr>\n",
              "      <th>9</th>\n",
              "      <td>spam</td>\n",
              "      <td>Had your mobile 11 months or more? U R entitle...</td>\n",
              "    </tr>\n",
              "  </tbody>\n",
              "</table>\n",
              "</div>\n",
              "      <button class=\"colab-df-convert\" onclick=\"convertToInteractive('df-a8eeda78-fce2-4cc9-9c3e-e856cb9dd012')\"\n",
              "              title=\"Convert this dataframe to an interactive table.\"\n",
              "              style=\"display:none;\">\n",
              "        \n",
              "  <svg xmlns=\"http://www.w3.org/2000/svg\" height=\"24px\"viewBox=\"0 0 24 24\"\n",
              "       width=\"24px\">\n",
              "    <path d=\"M0 0h24v24H0V0z\" fill=\"none\"/>\n",
              "    <path d=\"M18.56 5.44l.94 2.06.94-2.06 2.06-.94-2.06-.94-.94-2.06-.94 2.06-2.06.94zm-11 1L8.5 8.5l.94-2.06 2.06-.94-2.06-.94L8.5 2.5l-.94 2.06-2.06.94zm10 10l.94 2.06.94-2.06 2.06-.94-2.06-.94-.94-2.06-.94 2.06-2.06.94z\"/><path d=\"M17.41 7.96l-1.37-1.37c-.4-.4-.92-.59-1.43-.59-.52 0-1.04.2-1.43.59L10.3 9.45l-7.72 7.72c-.78.78-.78 2.05 0 2.83L4 21.41c.39.39.9.59 1.41.59.51 0 1.02-.2 1.41-.59l7.78-7.78 2.81-2.81c.8-.78.8-2.07 0-2.86zM5.41 20L4 18.59l7.72-7.72 1.47 1.35L5.41 20z\"/>\n",
              "  </svg>\n",
              "      </button>\n",
              "      \n",
              "  <style>\n",
              "    .colab-df-container {\n",
              "      display:flex;\n",
              "      flex-wrap:wrap;\n",
              "      gap: 12px;\n",
              "    }\n",
              "\n",
              "    .colab-df-convert {\n",
              "      background-color: #E8F0FE;\n",
              "      border: none;\n",
              "      border-radius: 50%;\n",
              "      cursor: pointer;\n",
              "      display: none;\n",
              "      fill: #1967D2;\n",
              "      height: 32px;\n",
              "      padding: 0 0 0 0;\n",
              "      width: 32px;\n",
              "    }\n",
              "\n",
              "    .colab-df-convert:hover {\n",
              "      background-color: #E2EBFA;\n",
              "      box-shadow: 0px 1px 2px rgba(60, 64, 67, 0.3), 0px 1px 3px 1px rgba(60, 64, 67, 0.15);\n",
              "      fill: #174EA6;\n",
              "    }\n",
              "\n",
              "    [theme=dark] .colab-df-convert {\n",
              "      background-color: #3B4455;\n",
              "      fill: #D2E3FC;\n",
              "    }\n",
              "\n",
              "    [theme=dark] .colab-df-convert:hover {\n",
              "      background-color: #434B5C;\n",
              "      box-shadow: 0px 1px 3px 1px rgba(0, 0, 0, 0.15);\n",
              "      filter: drop-shadow(0px 1px 2px rgba(0, 0, 0, 0.3));\n",
              "      fill: #FFFFFF;\n",
              "    }\n",
              "  </style>\n",
              "\n",
              "      <script>\n",
              "        const buttonEl =\n",
              "          document.querySelector('#df-a8eeda78-fce2-4cc9-9c3e-e856cb9dd012 button.colab-df-convert');\n",
              "        buttonEl.style.display =\n",
              "          google.colab.kernel.accessAllowed ? 'block' : 'none';\n",
              "\n",
              "        async function convertToInteractive(key) {\n",
              "          const element = document.querySelector('#df-a8eeda78-fce2-4cc9-9c3e-e856cb9dd012');\n",
              "          const dataTable =\n",
              "            await google.colab.kernel.invokeFunction('convertToInteractive',\n",
              "                                                     [key], {});\n",
              "          if (!dataTable) return;\n",
              "\n",
              "          const docLinkHtml = 'Like what you see? Visit the ' +\n",
              "            '<a target=\"_blank\" href=https://colab.research.google.com/notebooks/data_table.ipynb>data table notebook</a>'\n",
              "            + ' to learn more about interactive tables.';\n",
              "          element.innerHTML = '';\n",
              "          dataTable['output_type'] = 'display_data';\n",
              "          await google.colab.output.renderOutput(dataTable, element);\n",
              "          const docLink = document.createElement('div');\n",
              "          docLink.innerHTML = docLinkHtml;\n",
              "          element.appendChild(docLink);\n",
              "        }\n",
              "      </script>\n",
              "    </div>\n",
              "  </div>\n",
              "  "
            ]
          },
          "metadata": {},
          "execution_count": 2
        }
      ],
      "source": [
        "url = 'https://raw.githubusercontent.com/HuyQuangCSE/dataset/main/SMSSpamCollection'\n",
        "data = pd.read_csv(url, header=None, sep='\\t',names=['label', 'content'])\n",
        "data.head(10)"
      ]
    },
    {
      "cell_type": "markdown",
      "source": [
        "We will split the data into two parts for the training and testing purpose. The ratio we will use in this project is 8:2. (80% for training and 20% for testing).\n",
        "\n",
        "The dataset will be shuffle before being split to reduce overfitting and variance."
      ],
      "metadata": {
        "id": "jyYYPmKzxLIB"
      },
      "id": "jyYYPmKzxLIB"
    },
    {
      "cell_type": "code",
      "execution_count": null,
      "id": "f0aa07f8",
      "metadata": {
        "colab": {
          "base_uri": "https://localhost:8080/"
        },
        "id": "f0aa07f8",
        "outputId": "2b1014b9-d485-4f9b-b39c-29935f77c388"
      },
      "outputs": [
        {
          "output_type": "stream",
          "name": "stdout",
          "text": [
            "Size of train data:  4457\n",
            "Size of test data 1115\n"
          ]
        }
      ],
      "source": [
        "X_train, X_test, Y_train, Y_test = train_test_split(data.content, data.label, train_size=0.8, random_state=1)\n",
        "print('Size of train data: ',len(X_train))\n",
        "print('Size of test data',len(X_test))\n"
      ]
    },
    {
      "cell_type": "markdown",
      "source": [
        "At this step, we will utilize the **Count Vectorizer** from scikit-learn library to tokenize and vectorize the training and testing dataset.\n",
        "\n",
        "This tool also provides us with the built-in features for data cleaning. In this case, we use these to remove the stopword, punctuations (non-word characters) and set all the words to lowercase."
      ],
      "metadata": {
        "id": "ibmX7c3tyrxz"
      },
      "id": "ibmX7c3tyrxz"
    },
    {
      "cell_type": "code",
      "execution_count": null,
      "id": "fc3c7aed",
      "metadata": {
        "colab": {
          "base_uri": "https://localhost:8080/",
          "height": 398
        },
        "id": "fc3c7aed",
        "outputId": "745b6571-1dd7-4472-94c5-ad51d5669609"
      },
      "outputs": [
        {
          "output_type": "stream",
          "name": "stdout",
          "text": [
            "Training dataset's size:  4457\n",
            "Vocabulary's size:  7457\n"
          ]
        },
        {
          "output_type": "execute_result",
          "data": {
            "text/plain": [
              "                                                content label\n",
              "1642  Hi , where are you? We're at  and they're not ...   ham\n",
              "2899        If you r @ home then come down within 5 min   ham\n",
              "480   When're you guys getting back? G said you were...   ham\n",
              "3485  Tell my  bad character which u Dnt lik in me. ...   ham\n",
              "157                         I'm leaving my house now...   ham\n",
              "4430  Hey they r not watching movie tonight so i'll ...   ham\n",
              "2625                        S da..al r above  &lt;#&gt;   ham\n",
              "5365  Camera - You are awarded a SiPix Digital Camer...  spam\n",
              "4067  Fyi I'm gonna call you sporadically starting a...   ham\n",
              "3120                           Stop knowing me so well!   ham"
            ],
            "text/html": [
              "\n",
              "  <div id=\"df-d05ccf9f-e4ba-4055-a57d-c67aaa29f369\">\n",
              "    <div class=\"colab-df-container\">\n",
              "      <div>\n",
              "<style scoped>\n",
              "    .dataframe tbody tr th:only-of-type {\n",
              "        vertical-align: middle;\n",
              "    }\n",
              "\n",
              "    .dataframe tbody tr th {\n",
              "        vertical-align: top;\n",
              "    }\n",
              "\n",
              "    .dataframe thead th {\n",
              "        text-align: right;\n",
              "    }\n",
              "</style>\n",
              "<table border=\"1\" class=\"dataframe\">\n",
              "  <thead>\n",
              "    <tr style=\"text-align: right;\">\n",
              "      <th></th>\n",
              "      <th>content</th>\n",
              "      <th>label</th>\n",
              "    </tr>\n",
              "  </thead>\n",
              "  <tbody>\n",
              "    <tr>\n",
              "      <th>1642</th>\n",
              "      <td>Hi , where are you? We're at  and they're not ...</td>\n",
              "      <td>ham</td>\n",
              "    </tr>\n",
              "    <tr>\n",
              "      <th>2899</th>\n",
              "      <td>If you r @ home then come down within 5 min</td>\n",
              "      <td>ham</td>\n",
              "    </tr>\n",
              "    <tr>\n",
              "      <th>480</th>\n",
              "      <td>When're you guys getting back? G said you were...</td>\n",
              "      <td>ham</td>\n",
              "    </tr>\n",
              "    <tr>\n",
              "      <th>3485</th>\n",
              "      <td>Tell my  bad character which u Dnt lik in me. ...</td>\n",
              "      <td>ham</td>\n",
              "    </tr>\n",
              "    <tr>\n",
              "      <th>157</th>\n",
              "      <td>I'm leaving my house now...</td>\n",
              "      <td>ham</td>\n",
              "    </tr>\n",
              "    <tr>\n",
              "      <th>4430</th>\n",
              "      <td>Hey they r not watching movie tonight so i'll ...</td>\n",
              "      <td>ham</td>\n",
              "    </tr>\n",
              "    <tr>\n",
              "      <th>2625</th>\n",
              "      <td>S da..al r above  &amp;lt;#&amp;gt;</td>\n",
              "      <td>ham</td>\n",
              "    </tr>\n",
              "    <tr>\n",
              "      <th>5365</th>\n",
              "      <td>Camera - You are awarded a SiPix Digital Camer...</td>\n",
              "      <td>spam</td>\n",
              "    </tr>\n",
              "    <tr>\n",
              "      <th>4067</th>\n",
              "      <td>Fyi I'm gonna call you sporadically starting a...</td>\n",
              "      <td>ham</td>\n",
              "    </tr>\n",
              "    <tr>\n",
              "      <th>3120</th>\n",
              "      <td>Stop knowing me so well!</td>\n",
              "      <td>ham</td>\n",
              "    </tr>\n",
              "  </tbody>\n",
              "</table>\n",
              "</div>\n",
              "      <button class=\"colab-df-convert\" onclick=\"convertToInteractive('df-d05ccf9f-e4ba-4055-a57d-c67aaa29f369')\"\n",
              "              title=\"Convert this dataframe to an interactive table.\"\n",
              "              style=\"display:none;\">\n",
              "        \n",
              "  <svg xmlns=\"http://www.w3.org/2000/svg\" height=\"24px\"viewBox=\"0 0 24 24\"\n",
              "       width=\"24px\">\n",
              "    <path d=\"M0 0h24v24H0V0z\" fill=\"none\"/>\n",
              "    <path d=\"M18.56 5.44l.94 2.06.94-2.06 2.06-.94-2.06-.94-.94-2.06-.94 2.06-2.06.94zm-11 1L8.5 8.5l.94-2.06 2.06-.94-2.06-.94L8.5 2.5l-.94 2.06-2.06.94zm10 10l.94 2.06.94-2.06 2.06-.94-2.06-.94-.94-2.06-.94 2.06-2.06.94z\"/><path d=\"M17.41 7.96l-1.37-1.37c-.4-.4-.92-.59-1.43-.59-.52 0-1.04.2-1.43.59L10.3 9.45l-7.72 7.72c-.78.78-.78 2.05 0 2.83L4 21.41c.39.39.9.59 1.41.59.51 0 1.02-.2 1.41-.59l7.78-7.78 2.81-2.81c.8-.78.8-2.07 0-2.86zM5.41 20L4 18.59l7.72-7.72 1.47 1.35L5.41 20z\"/>\n",
              "  </svg>\n",
              "      </button>\n",
              "      \n",
              "  <style>\n",
              "    .colab-df-container {\n",
              "      display:flex;\n",
              "      flex-wrap:wrap;\n",
              "      gap: 12px;\n",
              "    }\n",
              "\n",
              "    .colab-df-convert {\n",
              "      background-color: #E8F0FE;\n",
              "      border: none;\n",
              "      border-radius: 50%;\n",
              "      cursor: pointer;\n",
              "      display: none;\n",
              "      fill: #1967D2;\n",
              "      height: 32px;\n",
              "      padding: 0 0 0 0;\n",
              "      width: 32px;\n",
              "    }\n",
              "\n",
              "    .colab-df-convert:hover {\n",
              "      background-color: #E2EBFA;\n",
              "      box-shadow: 0px 1px 2px rgba(60, 64, 67, 0.3), 0px 1px 3px 1px rgba(60, 64, 67, 0.15);\n",
              "      fill: #174EA6;\n",
              "    }\n",
              "\n",
              "    [theme=dark] .colab-df-convert {\n",
              "      background-color: #3B4455;\n",
              "      fill: #D2E3FC;\n",
              "    }\n",
              "\n",
              "    [theme=dark] .colab-df-convert:hover {\n",
              "      background-color: #434B5C;\n",
              "      box-shadow: 0px 1px 3px 1px rgba(0, 0, 0, 0.15);\n",
              "      filter: drop-shadow(0px 1px 2px rgba(0, 0, 0, 0.3));\n",
              "      fill: #FFFFFF;\n",
              "    }\n",
              "  </style>\n",
              "\n",
              "      <script>\n",
              "        const buttonEl =\n",
              "          document.querySelector('#df-d05ccf9f-e4ba-4055-a57d-c67aaa29f369 button.colab-df-convert');\n",
              "        buttonEl.style.display =\n",
              "          google.colab.kernel.accessAllowed ? 'block' : 'none';\n",
              "\n",
              "        async function convertToInteractive(key) {\n",
              "          const element = document.querySelector('#df-d05ccf9f-e4ba-4055-a57d-c67aaa29f369');\n",
              "          const dataTable =\n",
              "            await google.colab.kernel.invokeFunction('convertToInteractive',\n",
              "                                                     [key], {});\n",
              "          if (!dataTable) return;\n",
              "\n",
              "          const docLinkHtml = 'Like what you see? Visit the ' +\n",
              "            '<a target=\"_blank\" href=https://colab.research.google.com/notebooks/data_table.ipynb>data table notebook</a>'\n",
              "            + ' to learn more about interactive tables.';\n",
              "          element.innerHTML = '';\n",
              "          dataTable['output_type'] = 'display_data';\n",
              "          await google.colab.output.renderOutput(dataTable, element);\n",
              "          const docLink = document.createElement('div');\n",
              "          docLink.innerHTML = docLinkHtml;\n",
              "          element.appendChild(docLink);\n",
              "        }\n",
              "      </script>\n",
              "    </div>\n",
              "  </div>\n",
              "  "
            ]
          },
          "metadata": {},
          "execution_count": 4
        }
      ],
      "source": [
        "vectorizer = CountVectorizer(stop_words='english',lowercase=True).fit(X_train)\n",
        "vectorized_X_train = vectorizer.transform(X_train)\n",
        "vectorized_X_test = vectorizer.transform(X_test)\n",
        "\n",
        "(training_size, vocabulary_size) = vectorized_X_train.toarray().shape\n",
        "print('Training dataset\\'s size: ', training_size)\n",
        "print('Vocabulary\\'s size: ', vocabulary_size)\n",
        "pd.DataFrame({\n",
        "    'content':X_train,\n",
        "    'label': Y_train,\n",
        "}).head(10)"
      ]
    },
    {
      "cell_type": "markdown",
      "source": [
        "### TRAINING & TESTING\n",
        "\n",
        "Now we can use the processed data for training a Naive Bayes Classification model.\n",
        "\n",
        "In this model, Laplace smoothing will be applied with α = 1. This will helps us to solve the zero probability problems which may happen in the training process.\n",
        "\n",
        "The trained model will be test using the process dataset for testing which we have split from the collected data earlier."
      ],
      "metadata": {
        "id": "KdMDdDzk2Jr5"
      },
      "id": "KdMDdDzk2Jr5"
    },
    {
      "cell_type": "code",
      "execution_count": null,
      "id": "5c5450b4",
      "metadata": {
        "colab": {
          "base_uri": "https://localhost:8080/",
          "height": 380
        },
        "id": "5c5450b4",
        "outputId": "d01be8cb-d634-4393-8002-f9a3fc3e8c8f"
      },
      "outputs": [
        {
          "output_type": "stream",
          "name": "stdout",
          "text": [
            "Raw testing Data\n"
          ]
        },
        {
          "output_type": "execute_result",
          "data": {
            "text/plain": [
              "                                                content\n",
              "1078                       Yep, by the pretty sculpture\n",
              "4028      Yes, princess. Are you going to make me moan?\n",
              "958                          Welp apparently he retired\n",
              "4642                                            Havent.\n",
              "4674  I forgot 2 ask ü all smth.. There's a card on ...\n",
              "5461  Ok i thk i got it. Then u wan me 2 come now or...\n",
              "4210  I want kfc its Tuesday. Only buy 2 meals ONLY ...\n",
              "4216                         No dear i was sleeping :-P\n",
              "1603                          Ok pa. Nothing problem:-)\n",
              "1504                    Ill be there on  &lt;#&gt;  ok."
            ],
            "text/html": [
              "\n",
              "  <div id=\"df-7dd17ba7-5c32-4910-889c-6e2f8a54c30b\">\n",
              "    <div class=\"colab-df-container\">\n",
              "      <div>\n",
              "<style scoped>\n",
              "    .dataframe tbody tr th:only-of-type {\n",
              "        vertical-align: middle;\n",
              "    }\n",
              "\n",
              "    .dataframe tbody tr th {\n",
              "        vertical-align: top;\n",
              "    }\n",
              "\n",
              "    .dataframe thead th {\n",
              "        text-align: right;\n",
              "    }\n",
              "</style>\n",
              "<table border=\"1\" class=\"dataframe\">\n",
              "  <thead>\n",
              "    <tr style=\"text-align: right;\">\n",
              "      <th></th>\n",
              "      <th>content</th>\n",
              "    </tr>\n",
              "  </thead>\n",
              "  <tbody>\n",
              "    <tr>\n",
              "      <th>1078</th>\n",
              "      <td>Yep, by the pretty sculpture</td>\n",
              "    </tr>\n",
              "    <tr>\n",
              "      <th>4028</th>\n",
              "      <td>Yes, princess. Are you going to make me moan?</td>\n",
              "    </tr>\n",
              "    <tr>\n",
              "      <th>958</th>\n",
              "      <td>Welp apparently he retired</td>\n",
              "    </tr>\n",
              "    <tr>\n",
              "      <th>4642</th>\n",
              "      <td>Havent.</td>\n",
              "    </tr>\n",
              "    <tr>\n",
              "      <th>4674</th>\n",
              "      <td>I forgot 2 ask ü all smth.. There's a card on ...</td>\n",
              "    </tr>\n",
              "    <tr>\n",
              "      <th>5461</th>\n",
              "      <td>Ok i thk i got it. Then u wan me 2 come now or...</td>\n",
              "    </tr>\n",
              "    <tr>\n",
              "      <th>4210</th>\n",
              "      <td>I want kfc its Tuesday. Only buy 2 meals ONLY ...</td>\n",
              "    </tr>\n",
              "    <tr>\n",
              "      <th>4216</th>\n",
              "      <td>No dear i was sleeping :-P</td>\n",
              "    </tr>\n",
              "    <tr>\n",
              "      <th>1603</th>\n",
              "      <td>Ok pa. Nothing problem:-)</td>\n",
              "    </tr>\n",
              "    <tr>\n",
              "      <th>1504</th>\n",
              "      <td>Ill be there on  &amp;lt;#&amp;gt;  ok.</td>\n",
              "    </tr>\n",
              "  </tbody>\n",
              "</table>\n",
              "</div>\n",
              "      <button class=\"colab-df-convert\" onclick=\"convertToInteractive('df-7dd17ba7-5c32-4910-889c-6e2f8a54c30b')\"\n",
              "              title=\"Convert this dataframe to an interactive table.\"\n",
              "              style=\"display:none;\">\n",
              "        \n",
              "  <svg xmlns=\"http://www.w3.org/2000/svg\" height=\"24px\"viewBox=\"0 0 24 24\"\n",
              "       width=\"24px\">\n",
              "    <path d=\"M0 0h24v24H0V0z\" fill=\"none\"/>\n",
              "    <path d=\"M18.56 5.44l.94 2.06.94-2.06 2.06-.94-2.06-.94-.94-2.06-.94 2.06-2.06.94zm-11 1L8.5 8.5l.94-2.06 2.06-.94-2.06-.94L8.5 2.5l-.94 2.06-2.06.94zm10 10l.94 2.06.94-2.06 2.06-.94-2.06-.94-.94-2.06-.94 2.06-2.06.94z\"/><path d=\"M17.41 7.96l-1.37-1.37c-.4-.4-.92-.59-1.43-.59-.52 0-1.04.2-1.43.59L10.3 9.45l-7.72 7.72c-.78.78-.78 2.05 0 2.83L4 21.41c.39.39.9.59 1.41.59.51 0 1.02-.2 1.41-.59l7.78-7.78 2.81-2.81c.8-.78.8-2.07 0-2.86zM5.41 20L4 18.59l7.72-7.72 1.47 1.35L5.41 20z\"/>\n",
              "  </svg>\n",
              "      </button>\n",
              "      \n",
              "  <style>\n",
              "    .colab-df-container {\n",
              "      display:flex;\n",
              "      flex-wrap:wrap;\n",
              "      gap: 12px;\n",
              "    }\n",
              "\n",
              "    .colab-df-convert {\n",
              "      background-color: #E8F0FE;\n",
              "      border: none;\n",
              "      border-radius: 50%;\n",
              "      cursor: pointer;\n",
              "      display: none;\n",
              "      fill: #1967D2;\n",
              "      height: 32px;\n",
              "      padding: 0 0 0 0;\n",
              "      width: 32px;\n",
              "    }\n",
              "\n",
              "    .colab-df-convert:hover {\n",
              "      background-color: #E2EBFA;\n",
              "      box-shadow: 0px 1px 2px rgba(60, 64, 67, 0.3), 0px 1px 3px 1px rgba(60, 64, 67, 0.15);\n",
              "      fill: #174EA6;\n",
              "    }\n",
              "\n",
              "    [theme=dark] .colab-df-convert {\n",
              "      background-color: #3B4455;\n",
              "      fill: #D2E3FC;\n",
              "    }\n",
              "\n",
              "    [theme=dark] .colab-df-convert:hover {\n",
              "      background-color: #434B5C;\n",
              "      box-shadow: 0px 1px 3px 1px rgba(0, 0, 0, 0.15);\n",
              "      filter: drop-shadow(0px 1px 2px rgba(0, 0, 0, 0.3));\n",
              "      fill: #FFFFFF;\n",
              "    }\n",
              "  </style>\n",
              "\n",
              "      <script>\n",
              "        const buttonEl =\n",
              "          document.querySelector('#df-7dd17ba7-5c32-4910-889c-6e2f8a54c30b button.colab-df-convert');\n",
              "        buttonEl.style.display =\n",
              "          google.colab.kernel.accessAllowed ? 'block' : 'none';\n",
              "\n",
              "        async function convertToInteractive(key) {\n",
              "          const element = document.querySelector('#df-7dd17ba7-5c32-4910-889c-6e2f8a54c30b');\n",
              "          const dataTable =\n",
              "            await google.colab.kernel.invokeFunction('convertToInteractive',\n",
              "                                                     [key], {});\n",
              "          if (!dataTable) return;\n",
              "\n",
              "          const docLinkHtml = 'Like what you see? Visit the ' +\n",
              "            '<a target=\"_blank\" href=https://colab.research.google.com/notebooks/data_table.ipynb>data table notebook</a>'\n",
              "            + ' to learn more about interactive tables.';\n",
              "          element.innerHTML = '';\n",
              "          dataTable['output_type'] = 'display_data';\n",
              "          await google.colab.output.renderOutput(dataTable, element);\n",
              "          const docLink = document.createElement('div');\n",
              "          docLink.innerHTML = docLinkHtml;\n",
              "          element.appendChild(docLink);\n",
              "        }\n",
              "      </script>\n",
              "    </div>\n",
              "  </div>\n",
              "  "
            ]
          },
          "metadata": {},
          "execution_count": 5
        }
      ],
      "source": [
        "classifier = MultinomialNB(alpha=1)\n",
        "classifier.fit(vectorized_X_train, Y_train)\n",
        "print('Raw testing Data')\n",
        "pd.DataFrame(X_test).head(10)"
      ]
    },
    {
      "cell_type": "markdown",
      "source": [
        "The result of the classification will be evaluated by comparing to the test data original labels."
      ],
      "metadata": {
        "id": "G88piAHM4OEi"
      },
      "id": "G88piAHM4OEi"
    },
    {
      "cell_type": "code",
      "execution_count": null,
      "id": "93dc4a75",
      "metadata": {
        "colab": {
          "base_uri": "https://localhost:8080/"
        },
        "id": "93dc4a75",
        "outputId": "6348b706-478b-4364-e043-cc2b2cc97240"
      },
      "outputs": [
        {
          "output_type": "stream",
          "name": "stdout",
          "text": [
            "Accuracy: 99.10313901345292 %\n"
          ]
        }
      ],
      "source": [
        "predictions = classifier.predict(vectorized_X_test)\n",
        "print(\"Accuracy:\", 100 * sum(predictions == Y_test) / len(predictions), '%')"
      ]
    },
    {
      "cell_type": "markdown",
      "source": [
        "### APPLICATION\n",
        "\n",
        "In this sections, we will use the model to classify some random messages and evaluate the results."
      ],
      "metadata": {
        "id": "KoA1yfq741GV"
      },
      "id": "KoA1yfq741GV"
    },
    {
      "cell_type": "code",
      "execution_count": null,
      "id": "1f7bb867",
      "metadata": {
        "colab": {
          "base_uri": "https://localhost:8080/"
        },
        "id": "1f7bb867",
        "outputId": "a45abdf1-1831-4e80-995d-460ac5ec8e94"
      },
      "outputs": [
        {
          "output_type": "execute_result",
          "data": {
            "text/plain": [
              "array(['ham', 'ham', 'ham'], dtype='<U4')"
            ]
          },
          "metadata": {},
          "execution_count": 7
        }
      ],
      "source": [
        "classifier.predict(vectorizer.transform(\n",
        "    [\n",
        "        \"Thank you, ABC. Can you also share your LinkedIn profile? As you are a good at programming at pyhthon, would be willing to see your personal/college projects.\",\n",
        "        \"Hi y'all, We have a Job Openings in the positions of software engineer, IT officer at ABC Company.Kindly, send us your resume and the cover letter as soon as possible if you think you are an eligible candidate and meet the criteria.\",\n",
        "        \"Dear ABC, Congratulations! You have been selected as a SOftware Developer at XYZ Company. We were really happy to see your enthusiasm for this vision and mission. We are impressed with your background and we think you would make an excellent addition to the team.\",\n",
        "    ])\n",
        ")\n"
      ]
    },
    {
      "cell_type": "markdown",
      "source": [
        "In the first example, we can easily see that the content of the test messages are normal (ham). The model can classify these messages accurately.\n",
        "\n",
        "For the next example, let's try with some spam messages."
      ],
      "metadata": {
        "id": "CLyGGisx5fbk"
      },
      "id": "CLyGGisx5fbk"
    },
    {
      "cell_type": "code",
      "execution_count": null,
      "id": "01b120c1",
      "metadata": {
        "colab": {
          "base_uri": "https://localhost:8080/"
        },
        "id": "01b120c1",
        "outputId": "aa0b4f98-9892-4754-b1b9-eaebc3ecc071"
      },
      "outputs": [
        {
          "output_type": "execute_result",
          "data": {
            "text/plain": [
              "array(['spam', 'spam', 'spam'], dtype='<U4')"
            ]
          },
          "metadata": {},
          "execution_count": 8
        }
      ],
      "source": [
        "classifier.predict(vectorizer.transform(\n",
        "    [\n",
        "        \"congratulations, you became today's lucky winner\",\n",
        "        \"1-month unlimited calls offer Activate now\",\n",
        "        \"You have win your self an Iphone 13 pro vjp, please send us your bank account number to claim the prize!!!\"\n",
        "    ])\n",
        ")\n"
      ]
    },
    {
      "cell_type": "markdown",
      "source": [
        "As we can see, the model is still able to classify the spam messages."
      ],
      "metadata": {
        "id": "GNdIHSYT6Qjk"
      },
      "id": "GNdIHSYT6Qjk"
    }
  ],
  "metadata": {
    "kernelspec": {
      "display_name": "base",
      "language": "python",
      "name": "python3"
    },
    "language_info": {
      "codemirror_mode": {
        "name": "ipython",
        "version": 3
      },
      "file_extension": ".py",
      "mimetype": "text/x-python",
      "name": "python",
      "nbconvert_exporter": "python",
      "pygments_lexer": "ipython3",
      "version": "3.9.13"
    },
    "vscode": {
      "interpreter": {
        "hash": "fa295113a62cc73207798f74ab46a6e98e733ce1ac9c17200ef149abd0c0b705"
      }
    },
    "colab": {
      "provenance": []
    }
  },
  "nbformat": 4,
  "nbformat_minor": 5
}